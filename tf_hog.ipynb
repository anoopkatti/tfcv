{
 "cells": [
  {
   "cell_type": "code",
   "execution_count": 1,
   "metadata": {
    "collapsed": true
   },
   "outputs": [],
   "source": [
    "import os\n",
    "import numpy as np\n",
    "import tensorflow as tf\n",
    "import matplotlib.pyplot as plt\n",
    "from numpy.lib.stride_tricks import as_strided\n",
    "from scipy.signal import convolve2d\n",
    "\n",
    "from tf_hog import tf_hog_descriptor\n",
    "\n",
    "from PIL import Image\n",
    "%matplotlib inline\n",
    "\n",
    "plt.rcParams['image.cmap'] = 'viridis'"
   ]
  },
  {
   "cell_type": "code",
   "execution_count": 2,
   "metadata": {
    "collapsed": true
   },
   "outputs": [],
   "source": [
    "def read_images(folder):\n",
    "    fnames = [f for f in os.listdir(folder) if os.path.isfile(os.path.join(folder, f))]\n",
    "    images = [np.array(Image.open(os.path.join(folder, f))) for f in fnames]\n",
    "    return np.array(images)\n",
    "\n",
    "data = read_images('cifar/')"
   ]
  },
  {
   "cell_type": "code",
   "execution_count": 3,
   "metadata": {
    "collapsed": false,
    "scrolled": false
   },
   "outputs": [
    {
     "name": "stdout",
     "output_type": "stream",
     "text": [
      "(1000, 3780)\n",
      "Total time: 45.812 sec\n",
      "Session management time: 3.003 sec\n",
      "Evaluation time: 42.809\n"
     ]
    }
   ],
   "source": [
    "import time\n",
    "\n",
    "tf.reset_default_graph()\n",
    "init_op = tf.initialize_all_variables()\n",
    "X = np.repeat(np.repeat(data[:1000], 4, axis=1), 2, axis=2)\n",
    "\n",
    "t1 = time.time()\n",
    "hog = tf_hog_descriptor(X)\n",
    "with tf.Session() as sess:\n",
    "    summary_writer = tf.train.SummaryWriter('tf_logs/', sess.graph)\n",
    "    sess.run(init_op)\n",
    "    t2 = time.time()\n",
    "    g = hog.eval()\n",
    "    print(g.shape)\n",
    "t3 = time.time()\n",
    "\n",
    "print('Total time: %.3f sec' % (t3 - t1))\n",
    "print('Session management time: %.3f sec' % (t2 - t1))\n",
    "print('Evaluation time: %.3f' % (t3 - t2))"
   ]
  },
  {
   "cell_type": "code",
   "execution_count": 12,
   "metadata": {
    "collapsed": false
   },
   "outputs": [
    {
     "data": {
      "text/plain": [
       "23.80952380952381"
      ]
     },
     "execution_count": 12,
     "metadata": {},
     "output_type": "execute_result"
    }
   ],
   "source": [
    "1000 / 42"
   ]
  },
  {
   "cell_type": "code",
   "execution_count": 11,
   "metadata": {
    "collapsed": false
   },
   "outputs": [],
   "source": [
    "import cv2\n",
    "\n",
    "img = cv2.imread(\"cifar/535.png\")\n",
    "hog = cv2.HOGDescriptor()\n",
    "#h = hog.compute(img)\n",
    "cv2.imshow('frame', img)"
   ]
  },
  {
   "cell_type": "code",
   "execution_count": 91,
   "metadata": {
    "collapsed": false,
    "scrolled": false
   },
   "outputs": [
    {
     "name": "stdout",
     "output_type": "stream",
     "text": [
      "(10, 2, 2, 9)\n"
     ]
    }
   ],
   "source": [
    "cell_size = 16\n",
    "block_size = 16\n",
    "n_bins = 9\n",
    "\n",
    "a = tf.constant(np.floor(X[:,:,:,:1] / 256 * n_bins), dtype=np.int32) \n",
    "b = tf.constant(np.ones(a.get_shape()), dtype=np.float32)\n",
    "c = tf.space_to_depth(a, cell_size)\n",
    "d = tf.space_to_depth(b, cell_size)\n",
    "\n",
    "e = tf.transpose(tf.pack([tf.reduce_sum(tf.to_float(tf.equal(c, i)) * d, 3) for i in range(n_bins)]), [1,2,3,0])\n",
    "\n",
    "init_op = tf.initialize_all_variables()\n",
    "with tf.Session() as sess:\n",
    "    sess.run(init_op)\n",
    "    z = e.eval()\n",
    "    \n",
    "    \"\"\"\n",
    "    plt.subplot(2,2,1)\n",
    "    plt.imshow(z[0,0,0].reshape((cell_size,cell_size)), interpolation='nearest')\n",
    "    \n",
    "    plt.subplot(2,2,2)\n",
    "    plt.imshow(z[0,0,1].reshape((cell_size,cell_size)), interpolation='nearest')\n",
    "    \n",
    "    plt.subplot(2,2,3)\n",
    "    plt.imshow(z[0,1,0].reshape((cell_size,cell_size)), interpolation='nearest')\n",
    "    \n",
    "    plt.subplot(2,2,4)\n",
    "    plt.imshow(z[0,1,1].reshape((cell_size,cell_size)), interpolation='nearest')\n",
    "    \"\"\"\n",
    "    \n",
    "    print(z.shape)"
   ]
  },
  {
   "cell_type": "code",
   "execution_count": 3,
   "metadata": {
    "collapsed": true
   },
   "outputs": [],
   "source": [
    "def hog_tensor_fold(img, block_size = 16, cell_size = 8, stride = 8):    \n",
    "    size_t   = a.dtype.itemsize    \n",
    "    n_block  = block_size\n",
    "    n_cell   = cell_size\n",
    "    n_stride = stride\n",
    "    n_batch, n_height, n_width, n_channel = img.shape\n",
    "    \n",
    "    if (n_width - n_block) % n_stride != 0:\n",
    "        raise ValueError(\"`img.shape[2] - block_size` must be a multiple of `stride`\")\n",
    "    if (n_height - n_block) % n_stride != 0:\n",
    "        raise ValueError(\"`img.shape[1] - block_size` must be a multiple of `stride`\")\n",
    "    if n_block % n_cell != 0:\n",
    "        raise ValueError(\"`block_size` must be a multiple of `cell_size`\")\n",
    "    \n",
    "    strides = ( n_channel * n_height * n_width * size_t, # batch dimension\n",
    "                n_channel * n_stride * n_width * size_t, # block Y dimension   within an image\n",
    "                n_channel * n_stride * size_t,           # block X dimension   within an image\n",
    "                n_channel * n_cell * n_width * size_t,   # cell Y dimension    within a block\n",
    "                n_channel * n_cell * size_t,             # cell X dimension    within a block\n",
    "                n_channel * n_width  * size_t,           # spatial Y dimension within a cell\n",
    "                n_channel * size_t,                      # spatial X dimension within a cell\n",
    "                size_t )                                 # channel dimension\n",
    "    \n",
    "    shape   = ( n_batch, \n",
    "               (n_height - n_block) // n_stride + 1, \n",
    "                n_width // n_stride, \n",
    "                n_block // n_cell, \n",
    "                n_block // n_cell, \n",
    "                n_cell,\n",
    "                n_cell,\n",
    "                n_channel )\n",
    "    \n",
    "    result = as_strided(img, strides=strides, shape=shape)\n",
    "    result = result[:, :, :(n_width - n_block)//n_stride + 1, :, :, :]\n",
    "    result = result.reshape((result.shape[0],\n",
    "                             result.shape[1]*result.shape[2],\n",
    "                             result.shape[3]*result.shape[4],\n",
    "                             result.shape[5],\n",
    "                             result.shape[6],\n",
    "                             result.shape[7]))\n",
    "    \n",
    "    return result"
   ]
  },
  {
   "cell_type": "code",
   "execution_count": 213,
   "metadata": {
    "collapsed": false
   },
   "outputs": [
    {
     "data": {
      "text/plain": [
       "<matplotlib.image.AxesImage at 0x7f6f140a48d0>"
      ]
     },
     "execution_count": 213,
     "metadata": {},
     "output_type": "execute_result"
    },
    {
     "data": {
      "image/png": "[encoded data removed]",
      "text/plain": [
       "<matplotlib.figure.Figure at 0x7f6f14304588>"
      ]
     },
     "metadata": {},
     "output_type": "display_data"
    }
   ],
   "source": [
    "# numpy code\n",
    "\n",
    "grayscale = False\n",
    "oriented = False\n",
    "n_bins = 9\n",
    "\n",
    "k = 6\n",
    "X = data[:10]\n",
    "kernel = np.array([[1,0,-1]])\n",
    "\n",
    "if grayscale:\n",
    "    img = X[k].mean(axis=2)    \n",
    "    gx = convolve2d(img, kernel,   mode = 'same')\n",
    "    gy = convolve2d(img, kernel.T, mode = 'same')   \n",
    "    g_mag = np.sqrt(gx**2 + gy**2)\n",
    "    \n",
    "else:\n",
    "    img = X[k]\n",
    "    gx = np.stack([convolve2d(img[:,:,0], kernel,   mode = 'same'),\n",
    "                   convolve2d(img[:,:,1], kernel,   mode = 'same'),\n",
    "                   convolve2d(img[:,:,2], kernel,   mode = 'same')], axis=-1)\n",
    "    \n",
    "    gy = np.stack([convolve2d(img[:,:,0], kernel.T, mode = 'same'),\n",
    "                   convolve2d(img[:,:,1], kernel.T, mode = 'same'),\n",
    "                   convolve2d(img[:,:,2], kernel.T, mode = 'same')], axis=-1)\n",
    "    \n",
    "    g_mag = np.sqrt(gx**2 + gy**2)\n",
    "    ch_idx = np.argmax(g_mag, axis = 2)\n",
    "    row_idx, col_idx = np.indices((g_mag.shape[0], g_mag.shape[1]))\n",
    "    \n",
    "    gx = gx[row_idx, col_idx, ch_idx]\n",
    "    gy = gy[row_idx, col_idx, ch_idx]\n",
    "    g_mag = g_mag[row_idx, col_idx, ch_idx]\n",
    "\n",
    "g_dir = np.arctan2(gy, gx)\n",
    "if oriented:\n",
    "    g_dir += np.pi\n",
    "    g_bin = np.floor(g_dir / np.pi * n_bins * 0.4999999)\n",
    "else:\n",
    "    g_dir[g_dir < 0] += np.pi\n",
    "    g_bin = np.floor(g_dir / np.pi * n_bins * 0.99999)\n",
    "    \n",
    "g_bin = g_bin.reshape(g_bin.shape[0], g_bin.shape[1], -1)\n",
    "\n",
    "plt.imshow(g_bin[:,:,0], interpolation='nearest')"
   ]
  },
  {
   "cell_type": "code",
   "execution_count": null,
   "metadata": {
    "collapsed": false
   },
   "outputs": [],
   "source": [
    "Z.shape"
   ]
  },
  {
   "cell_type": "code",
   "execution_count": null,
   "metadata": {
    "collapsed": false
   },
   "outputs": [],
   "source": [
    "X[0,:,:,0]"
   ]
  }
 ],
 "metadata": {
  "anaconda-cloud": {},
  "kernelspec": {
   "display_name": "Python [Root]",
   "language": "python",
   "name": "Python [Root]"
  },
  "language_info": {
   "codemirror_mode": {
    "name": "ipython",
    "version": 3
   },
   "file_extension": ".py",
   "mimetype": "text/x-python",
   "name": "python",
   "nbconvert_exporter": "python",
   "pygments_lexer": "ipython3",
   "version": "3.5.2"
  }
 },
 "nbformat": 4,
 "nbformat_minor": 0
}
