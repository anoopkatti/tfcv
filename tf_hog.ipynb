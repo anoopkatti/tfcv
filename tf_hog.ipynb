{
 "cells": [
  {
   "cell_type": "code",
   "execution_count": 180,
   "metadata": {
    "collapsed": true
   },
   "outputs": [],
   "source": [
    "import _pickle as cPickle\n",
    "import os\n",
    "import numpy as np\n",
    "import tensorflow as tf\n",
    "import matplotlib.pyplot as plt\n",
    "from numpy.lib.stride_tricks import as_strided\n",
    "from scipy.signal import convolve2d\n",
    "\n",
    "from PIL import Image\n",
    "%matplotlib inline\n",
    "\n",
    "plt.rcParams['image.cmap'] = 'viridis'"
   ]
  },
  {
   "cell_type": "code",
   "execution_count": 2,
   "metadata": {
    "collapsed": true
   },
   "outputs": [],
   "source": [
    "def read_images(folder):\n",
    "    fnames = [f for f in os.listdir(folder) if os.path.isfile(os.path.join(folder, f))]\n",
    "    images = [np.array(Image.open(os.path.join(folder, f))) for f in fnames]\n",
    "    return np.array(images)\n",
    "\n",
    "data = read_images('cifar/')"
   ]
  },
  {
   "cell_type": "code",
   "execution_count": 153,
   "metadata": {
    "collapsed": true
   },
   "outputs": [],
   "source": [
    "def hog_tensor_fold(a, block_size, stride = 1):\n",
    "    size_t   = a.dtype.itemsize    \n",
    "    n_block  = block_size\n",
    "    n_stride = stride\n",
    "    n_batch, n_height, n_width, n_channel = a.shape\n",
    "    \n",
    "    strides = ( n_channel * n_height * n_width * size_t, \n",
    "                n_channel * n_stride * n_width * size_t, \n",
    "                n_channel * n_stride * size_t, \n",
    "                n_channel * n_width  * size_t, \n",
    "                n_channel * size_t, \n",
    "                size_t )\n",
    "    \n",
    "    shape   = ( n_batch, \n",
    "               (n_height - n_block) // n_stride + 1, \n",
    "                n_width // n_stride, \n",
    "                n_block, \n",
    "                n_block, \n",
    "                n_channel )\n",
    "    \n",
    "    result = as_strided(a, strides=strides, shape=shape)\n",
    "    result = result[:, :, :(n_width - n_block)//n_stride + 1, :, :, :]\n",
    "    \n",
    "    #result = result.reshape((result.shape[0], \n",
    "    #                         result.shape[1]*result.shape[2],\n",
    "    #                         result.shape[3],\n",
    "    #                         result.shape[4],\n",
    "    #                         result.shape[5]))\n",
    "    \n",
    "    return result"
   ]
  },
  {
   "cell_type": "code",
   "execution_count": 177,
   "metadata": {
    "collapsed": true
   },
   "outputs": [],
   "source": [
    "def hog_tensor_fold(img, block_size = 16, cell_size = 8, stride = 8):    \n",
    "    size_t   = a.dtype.itemsize    \n",
    "    n_block  = block_size\n",
    "    n_cell   = cell_size\n",
    "    n_stride = stride\n",
    "    n_batch, n_height, n_width, n_channel = img.shape\n",
    "    \n",
    "    if (n_width - n_block) % n_stride != 0:\n",
    "        raise ValueError(\"`img.shape[2] - block_size` must be a multiple of `stride`\")\n",
    "    if (n_height - n_block) % n_stride != 0:\n",
    "        raise ValueError(\"`img.shape[1] - block_size` must be a multiple of `stride`\")\n",
    "    if n_block % n_cell != 0:\n",
    "        raise ValueError(\"`block_size` must be a multiple of `cell_size`\")\n",
    "    \n",
    "    strides = ( n_channel * n_height * n_width * size_t, # batch dimension\n",
    "                n_channel * n_stride * n_width * size_t, # block Y dimension   within an image\n",
    "                n_channel * n_stride * size_t,           # block X dimension   within an image\n",
    "                n_channel * n_cell * n_width * size_t,   # cell Y dimension    within a block\n",
    "                n_channel * n_cell * size_t,             # cell X dimension    within a block\n",
    "                n_channel * n_width  * size_t,           # spatial Y dimension within a cell\n",
    "                n_channel * size_t,                      # spatial X dimension within a cell\n",
    "                size_t )                                 # channel dimension\n",
    "    \n",
    "    shape   = ( n_batch, \n",
    "               (n_height - n_block) // n_stride + 1, \n",
    "                n_width // n_stride, \n",
    "                n_block // n_cell, \n",
    "                n_block // n_cell, \n",
    "                n_cell,\n",
    "                n_cell,\n",
    "                n_channel )\n",
    "    \n",
    "    result = as_strided(img, strides=strides, shape=shape)\n",
    "    result = result[:, :, :(n_width - n_block)//n_stride + 1, :, :, :]\n",
    "    result = result.reshape((result.shape[0],\n",
    "                             result.shape[1]*result.shape[2],\n",
    "                             result.shape[3]*result.shape[4],\n",
    "                             result.shape[5],\n",
    "                             result.shape[6],\n",
    "                             result.shape[7]))\n",
    "    \n",
    "    return result"
   ]
  },
  {
   "cell_type": "code",
   "execution_count": 201,
   "metadata": {
    "collapsed": false
   },
   "outputs": [],
   "source": [
    "kernel = np.array([[-1,0,1]])\n",
    "X = data[:10]\n",
    "\n",
    "k = 4\n",
    "g_x = np.stack([convolve2d(X[k,:,:,0], kernel, mode = 'same'),\n",
    "                convolve2d(X[k,:,:,1], kernel, mode = 'same'),\n",
    "                convolve2d(X[k,:,:,2], kernel, mode = 'same')], axis=-1)\n",
    "\n",
    "g_y = np.stack([convolve2d(X[k,:,:,0], kernel.T, mode = 'same'),\n",
    "                convolve2d(X[k,:,:,1], kernel.T, mode = 'same'),\n",
    "                convolve2d(X[k,:,:,2], kernel.T, mode = 'same')], axis=-1)\n",
    "\n",
    "g_norm = np.sqrt(z_x**2 + z_y**2)\n",
    "#g_idx = np.argmax(z_a, axis = 2)\n",
    "\n",
    "#g_mag = g_norm[]\n",
    "\n",
    "#plt.imshow(g_mag)"
   ]
  },
  {
   "cell_type": "code",
   "execution_count": 205,
   "metadata": {
    "collapsed": false
   },
   "outputs": [
    {
     "data": {
      "text/plain": [
       "array([[0, 2],\n",
       "       [3, 5],\n",
       "       [6, 8]])"
      ]
     },
     "execution_count": 205,
     "metadata": {},
     "output_type": "execute_result"
    }
   ],
   "source": [
    "a = np.arange(9).reshape((3,3))\n",
    "a.take([0,2], axis = 1)"
   ]
  },
  {
   "cell_type": "code",
   "execution_count": 179,
   "metadata": {
    "collapsed": false
   },
   "outputs": [
    {
     "data": {
      "text/plain": [
       "<matplotlib.image.AxesImage at 0x7f0c11384da0>"
      ]
     },
     "execution_count": 179,
     "metadata": {},
     "output_type": "execute_result"
    },
    {
     "data": {
      "image/png": "[encoded data removed]",
      "text/plain": [
       "<matplotlib.figure.Figure at 0x7f0c113bc438>"
      ]
     },
     "metadata": {},
     "output_type": "display_data"
    }
   ],
   "source": [
    "#a = X[0].copy() #np.arange(64).reshape((8,8))\n",
    "Z = hog_tensor_fold(X.copy(), 16, 8, 16)\n",
    "#Z = Z.reshape(10,9,16,16,3)\n",
    "\n",
    "k = 0\n",
    "\n",
    "W = np.vstack([\n",
    "        np.hstack([\n",
    "            np.vstack([\n",
    "                np.hstack([Z[k,0,0],Z[k,0,1]]), \n",
    "                np.hstack([Z[k,0,2],Z[k,0,3]])\n",
    "            ]),\n",
    "            np.vstack([\n",
    "                np.hstack([Z[k,1,0],Z[k,1,1]]), \n",
    "                np.hstack([Z[k,1,2],Z[k,1,3]])\n",
    "            ])\n",
    "        ]),\n",
    "        np.hstack([\n",
    "            np.vstack([\n",
    "                np.hstack([Z[k,2,0],Z[k,2,1]]),\n",
    "                np.hstack([Z[k,2,2],Z[k,2,3]])\n",
    "            ]),\n",
    "            np.vstack([\n",
    "                np.hstack([Z[k,3,0],Z[k,3,1]]), \n",
    "                np.hstack([Z[k,3,2],Z[k,3,3]])\n",
    "            ])\n",
    "        ])\n",
    "    ])\n",
    "\n",
    "plt.imshow(W, interpolation='nearest')\n",
    "#Z.shape"
   ]
  },
  {
   "cell_type": "code",
   "execution_count": 167,
   "metadata": {
    "collapsed": false
   },
   "outputs": [
    {
     "data": {
      "text/plain": [
       "(10, 2, 2, 2, 2, 8, 8, 3)"
      ]
     },
     "execution_count": 167,
     "metadata": {},
     "output_type": "execute_result"
    }
   ],
   "source": [
    "Z.shape"
   ]
  },
  {
   "cell_type": "code",
   "execution_count": 98,
   "metadata": {
    "collapsed": false
   },
   "outputs": [
    {
     "data": {
      "text/plain": [
       "array([[176, 174, 175, ..., 114, 112, 110],\n",
       "       [148, 143, 142, ..., 127, 131, 134],\n",
       "       [114, 115, 117, ..., 146, 151, 151],\n",
       "       ..., \n",
       "       [ 54,  41,  47, ..., 116, 113, 106],\n",
       "       [ 73,  76,  78, ..., 114, 109, 109],\n",
       "       [101, 100,  98, ..., 111, 114, 114]], dtype=uint8)"
      ]
     },
     "execution_count": 98,
     "metadata": {},
     "output_type": "execute_result"
    }
   ],
   "source": [
    "X[0,:,:,0]"
   ]
  }
 ],
 "metadata": {
  "kernelspec": {
   "display_name": "Python 3",
   "language": "python",
   "name": "python3"
  },
  "language_info": {
   "codemirror_mode": {
    "name": "ipython",
    "version": 3
   },
   "file_extension": ".py",
   "mimetype": "text/x-python",
   "name": "python",
   "nbconvert_exporter": "python",
   "pygments_lexer": "ipython3",
   "version": "3.5.2"
  }
 },
 "nbformat": 4,
 "nbformat_minor": 0
}
