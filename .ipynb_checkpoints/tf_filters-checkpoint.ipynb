{
 "cells": [
  {
   "cell_type": "code",
   "execution_count": 148,
   "metadata": {
    "collapsed": false
   },
   "outputs": [],
   "source": [
    "import _pickle as cPickle\n",
    "import os\n",
    "import numpy as np\n",
    "import tensorflow as tf\n",
    "import matplotlib.pyplot as plt\n",
    "\n",
    "from PIL import Image\n",
    "%matplotlib inline\n",
    "\n",
    "plt.rcParams['image.cmap'] = 'viridis'"
   ]
  },
  {
   "cell_type": "code",
   "execution_count": 8,
   "metadata": {
    "collapsed": true
   },
   "outputs": [],
   "source": [
    "def read_images(folder):\n",
    "    fnames = [f for f in os.listdir(folder) if os.path.isfile(os.path.join(folder, f))]\n",
    "    images = [np.array(Image.open(os.path.join(folder, f))) for f in fnames]\n",
    "    return np.array(images)\n",
    "\n",
    "data = read_images('cifar/')"
   ]
  },
  {
   "cell_type": "code",
   "execution_count": 307,
   "metadata": {
    "collapsed": false
   },
   "outputs": [
    {
     "name": "stdout",
     "output_type": "stream",
     "text": [
      "(10, 32, 32, 3)\n"
     ]
    },
    {
     "data": {
      "image/png": "[encoded data removed]",
      "text/plain": [
       "<matplotlib.figure.Figure at 0x7fdd592fda20>"
      ]
     },
     "metadata": {},
     "output_type": "display_data"
    }
   ],
   "source": [
    "def get_sobel_kernel(ksize):\n",
    "    if (ksize % 2 == 0) or (ksize < 1):\n",
    "        raise ValueError(\"Kernel size must be a positive odd number\")\n",
    "    _base = np.arange(ksize) - ksize//2\n",
    "    a = np.broadcast_to(_base, (ksize,ksize))\n",
    "    b = ksize//2 - np.abs(a).T\n",
    "    s = np.sign(a)\n",
    "    return a + s*b\n",
    "\n",
    "\n",
    "def get_gaussian_kernel(ksize = 3, sigma = -1.0):\n",
    "    ksigma = 0.15*ksize + 0.35 if sigma <= 0 else sigma\n",
    "    i, j   = np.mgrid[0:ksize,0:ksize] - (ksize-1)//2\n",
    "    kernel = np.exp(-(i**2 + j**2) / (2*ksigma**2))\n",
    "    return kernel / kernel.sum()\n",
    "\n",
    "\n",
    "def get_laplacian_of_gaussian_kernel(ksize = 3, sigma = -1.0):\n",
    "    ksigma = 0.15*ksize + 0.35 if sigma <= 0 else sigma\n",
    "    i, j   = np.mgrid[0:ksize,0:ksize] - (ksize-1)//2\n",
    "    kernel = (i**2 + j**2 - 2*ksigma**2) / (ksigma**4) * np.exp(-(i**2 + j**2) / (2*ksigma**2))\n",
    "    return kernel - kernel.mean()\n",
    "\n",
    "\n",
    "def tf_kernel_prep_4d(kernel, n_channels):\n",
    "    return np.tile(kernel, (n_channels, 1, 1, 1)).swapaxes(0,2).swapaxes(1,3)\n",
    "\n",
    "\n",
    "def tf_kernel_prep_3d(kernel, n_channels):\n",
    "    return np.tile(kernel, (n_channels, 1, 1)).swapaxes(0,1).swapaxes(1,2)\n",
    "\n",
    "\n",
    "def tf_filter2d(batch, kernel, strides=(1,1), padding='SAME'):\n",
    "    n_ch = batch.shape[3]\n",
    "    tf_kernel = tf.constant(tf_kernel_prep_4d(kernel, n_ch))\n",
    "    return tf.nn.depthwise_conv2d(batch, tf_kernel, [1, strides[0], strides[1], 1], padding=padding)\n",
    "    \n",
    "\n",
    "def tf_sobel(batch, ksize=3, padding='SAME'):\n",
    "    n_ch = batch.shape[3]\n",
    "    gx = tf_kernel_prep_3d(get_sobel_kernel(ksize),   n_ch)\n",
    "    gy = tf_kernel_prep_3d(get_sobel_kernel(ksize).T, n_ch)\n",
    "    kernel = tf.constant(np.stack([gx, gy], axis=-1).astype(batch.dtype), dtype = np.float32)\n",
    "    return tf.nn.depthwise_conv2d(batch, kernel, [1, 1, 1, 1], padding=padding)\n",
    "\n",
    "\n",
    "def tf_sharr(batch, padding='SAME'):\n",
    "    n_ch = batch.shape[3]\n",
    "    gx = tf_kernel_prep_3d([[ -3, 0,  3],\n",
    "                            [-10, 0, 10],\n",
    "                            [ -3, 0,  3]], n_ch)\n",
    "    \n",
    "    gy = tf_kernel_prep_3d([[-3,-10,-3],\n",
    "                            [ 0,  0, 0],\n",
    "                            [ 3, 10, 3]], n_ch)\n",
    "    \n",
    "    kernel = tf.constant(np.stack([gx, gy], axis=-1).astype(batch.dtype), dtype = np.float32)\n",
    "    return tf.nn.depthwise_conv2d(batch, kernel, [1, 1, 1, 1], padding=padding)\n",
    "\n",
    "\n",
    "def tf_laplacian(batch, padding='SAME'):\n",
    "    kernel = np.array([[0, 1, 0],\n",
    "                       [1,-4, 1],\n",
    "                       [0, 1, 0]], dtype=batch.dtype)    \n",
    "    return tf_filter2d(batch, kernel, padding=padding)\n",
    "\n",
    "\n",
    "def tf_boxfilter(batch, ksize = 3, padding='SAME'):\n",
    "    kernel = np.ones((ksize, ksize), dtype=batch.dtype) / ksize**2\n",
    "    return tf_filter2d(batch, kernel, padding=padding)\n",
    "\n",
    "\n",
    "sob = tf_sobel(data[:10].astype(np.float32), ksize = 3, padding='VALID')\n",
    "shr = tf_sharr(data[:10].astype(np.float32), 'VALID')\n",
    "box = tf_boxfilter(data[:10].astype(np.float32), ksize = 3)\n",
    "lap = tf_laplacian(data[:10].astype(np.float32))\n",
    "\n",
    "\n",
    "\n",
    "init_op = tf.initialize_all_variables()\n",
    "with tf.Session() as sess:\n",
    "    sess.run(init_op)\n",
    "    sobel = sob.eval()\n",
    "    sharr = shr.eval()\n",
    "    g = lap.eval() \n",
    "    \n",
    "    k = 0\n",
    "    x = sobel[k,:,:,0]    \n",
    "    \n",
    "    print(g.shape)\n",
    "    plt.imshow(x, interpolation = 'nearest')\n",
    "    sess.close()"
   ]
  }
 ],
 "metadata": {
  "anaconda-cloud": {},
  "kernelspec": {
   "display_name": "Python 3",
   "language": "python",
   "name": "python3"
  },
  "language_info": {
   "codemirror_mode": {
    "name": "ipython",
    "version": 3
   },
   "file_extension": ".py",
   "mimetype": "text/x-python",
   "name": "python",
   "nbconvert_exporter": "python",
   "pygments_lexer": "ipython3",
   "version": "3.5.2"
  }
 },
 "nbformat": 4,
 "nbformat_minor": 0
}
