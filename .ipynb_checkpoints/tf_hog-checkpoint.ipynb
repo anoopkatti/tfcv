{
 "cells": [
  {
   "cell_type": "code",
   "execution_count": 1,
   "metadata": {
    "collapsed": true
   },
   "outputs": [],
   "source": [
    "import _pickle as cPickle\n",
    "import os\n",
    "import numpy as np\n",
    "import tensorflow as tf\n",
    "import matplotlib.pyplot as plt\n",
    "from numpy.lib.stride_tricks import as_strided\n",
    "from scipy.signal import convolve2d\n",
    "\n",
    "from tf_filters import *\n",
    "\n",
    "from PIL import Image\n",
    "%matplotlib inline\n",
    "\n",
    "plt.rcParams['image.cmap'] = 'viridis'"
   ]
  },
  {
   "cell_type": "code",
   "execution_count": 2,
   "metadata": {
    "collapsed": true
   },
   "outputs": [],
   "source": [
    "def read_images(folder):\n",
    "    fnames = [f for f in os.listdir(folder) if os.path.isfile(os.path.join(folder, f))]\n",
    "    images = [np.array(Image.open(os.path.join(folder, f))) for f in fnames]\n",
    "    return np.array(images)\n",
    "\n",
    "data = read_images('cifar/')"
   ]
  },
  {
   "cell_type": "code",
   "execution_count": null,
   "metadata": {
    "collapsed": true
   },
   "outputs": [],
   "source": [
    "def hog_tensor_fold(a, block_size, stride = 1):\n",
    "    size_t   = a.dtype.itemsize    \n",
    "    n_block  = block_size\n",
    "    n_stride = stride\n",
    "    n_batch, n_height, n_width, n_channel = a.shape\n",
    "    \n",
    "    strides = ( n_channel * n_height * n_width * size_t, \n",
    "                n_channel * n_stride * n_width * size_t, \n",
    "                n_channel * n_stride * size_t, \n",
    "                n_channel * n_width  * size_t, \n",
    "                n_channel * size_t, \n",
    "                size_t )\n",
    "    \n",
    "    shape   = ( n_batch, \n",
    "               (n_height - n_block) // n_stride + 1, \n",
    "                n_width // n_stride, \n",
    "                n_block, \n",
    "                n_block, \n",
    "                n_channel )\n",
    "    \n",
    "    result = as_strided(a, strides=strides, shape=shape)\n",
    "    result = result[:, :, :(n_width - n_block)//n_stride + 1, :, :, :]\n",
    "    \n",
    "    #result = result.reshape((result.shape[0], \n",
    "    #                         result.shape[1]*result.shape[2],\n",
    "    #                         result.shape[3],\n",
    "    #                         result.shape[4],\n",
    "    #                         result.shape[5]))\n",
    "    \n",
    "    return result"
   ]
  },
  {
   "cell_type": "code",
   "execution_count": 3,
   "metadata": {
    "collapsed": true
   },
   "outputs": [],
   "source": [
    "def hog_tensor_fold(img, block_size = 16, cell_size = 8, stride = 8):    \n",
    "    size_t   = a.dtype.itemsize    \n",
    "    n_block  = block_size\n",
    "    n_cell   = cell_size\n",
    "    n_stride = stride\n",
    "    n_batch, n_height, n_width, n_channel = img.shape\n",
    "    \n",
    "    if (n_width - n_block) % n_stride != 0:\n",
    "        raise ValueError(\"`img.shape[2] - block_size` must be a multiple of `stride`\")\n",
    "    if (n_height - n_block) % n_stride != 0:\n",
    "        raise ValueError(\"`img.shape[1] - block_size` must be a multiple of `stride`\")\n",
    "    if n_block % n_cell != 0:\n",
    "        raise ValueError(\"`block_size` must be a multiple of `cell_size`\")\n",
    "    \n",
    "    strides = ( n_channel * n_height * n_width * size_t, # batch dimension\n",
    "                n_channel * n_stride * n_width * size_t, # block Y dimension   within an image\n",
    "                n_channel * n_stride * size_t,           # block X dimension   within an image\n",
    "                n_channel * n_cell * n_width * size_t,   # cell Y dimension    within a block\n",
    "                n_channel * n_cell * size_t,             # cell X dimension    within a block\n",
    "                n_channel * n_width  * size_t,           # spatial Y dimension within a cell\n",
    "                n_channel * size_t,                      # spatial X dimension within a cell\n",
    "                size_t )                                 # channel dimension\n",
    "    \n",
    "    shape   = ( n_batch, \n",
    "               (n_height - n_block) // n_stride + 1, \n",
    "                n_width // n_stride, \n",
    "                n_block // n_cell, \n",
    "                n_block // n_cell, \n",
    "                n_cell,\n",
    "                n_cell,\n",
    "                n_channel )\n",
    "    \n",
    "    result = as_strided(img, strides=strides, shape=shape)\n",
    "    result = result[:, :, :(n_width - n_block)//n_stride + 1, :, :, :]\n",
    "    result = result.reshape((result.shape[0],\n",
    "                             result.shape[1]*result.shape[2],\n",
    "                             result.shape[3]*result.shape[4],\n",
    "                             result.shape[5],\n",
    "                             result.shape[6],\n",
    "                             result.shape[7]))\n",
    "    \n",
    "    return result"
   ]
  },
  {
   "cell_type": "code",
   "execution_count": 93,
   "metadata": {
    "collapsed": true
   },
   "outputs": [],
   "source": [
    "def tf_deriv(batch, ksize=3, padding='SAME'):\n",
    "    try:\n",
    "        n_ch = batch.shape[3]\n",
    "    except:\n",
    "        n_ch = int(batch.get_shape()[3])\n",
    "    gx = tf_kernel_prep_3d(np.array([[ 0, 0, 0],\n",
    "                                     [-1, 0, 1],\n",
    "                                     [ 0, 0, 0]]), n_ch)    \n",
    "    gy = tf_kernel_prep_3d(np.array([[ 0,-1, 0],\n",
    "                                     [ 0, 0, 0],\n",
    "                                     [ 0, 1, 0]]), n_ch)   \n",
    "    kernel = tf.constant(np.stack([gx, gy], axis=-1), dtype = np.float32)\n",
    "    return tf.nn.depthwise_conv2d(batch, kernel, [1, 1, 1, 1], padding=padding)"
   ]
  },
  {
   "cell_type": "code",
   "execution_count": 220,
   "metadata": {
    "collapsed": false
   },
   "outputs": [
    {
     "data": {
      "image/png": "[encoded data removed]",
      "text/plain": [
       "<matplotlib.figure.Figure at 0x7f6f14247d30>"
      ]
     },
     "metadata": {},
     "output_type": "display_data"
    }
   ],
   "source": [
    "# tensorflow code\n",
    "\n",
    "tf.reset_default_graph()\n",
    "\n",
    "grayscale = False\n",
    "oriented = False\n",
    "n_bins = 9\n",
    "cell_size = 8\n",
    "block_size = 16\n",
    "stride = 8\n",
    "\n",
    "k = 1\n",
    "X = data[:10]\n",
    "\n",
    "img_idx, row_idx, col_idx, _ = np.indices(X.shape)\n",
    "img_idx = tf.constant(img_idx, dtype=tf.int32)\n",
    "row_idx = tf.constant(row_idx, dtype=tf.int32)\n",
    "col_idx = tf.constant(col_idx, dtype=tf.int32)\n",
    "\n",
    "img    = tf.constant(X, dtype=tf.float32)\n",
    "kernel = tf.constant([[-1,0,1]], dtype=tf.float32)\n",
    "\n",
    "if grayscale:\n",
    "    gray = tf.image.rgb_to_grayscale(img)\n",
    "    grad = tf_deriv(gray)\n",
    "else:\n",
    "    grad = tf_deriv(img)\n",
    "    \n",
    "gx = grad[:,:,:,0::2]\n",
    "gy = grad[:,:,:,1::2]   \n",
    "gmag = tf.sqrt(tf.square(gx) + tf.square(gy))\n",
    "\n",
    "max_idx = tf.argmax(gmag, 3)\n",
    "max_idx = tf.to_int32(max_idx)\n",
    "max_idx = tf.pack([max_idx, max_idx, max_idx])\n",
    "max_idx = tf.transpose(max_idx, [1,2,3,0])\n",
    "\n",
    "idx = tf.pack([img_idx, row_idx, col_idx, max_idx])\n",
    "idx = tf.transpose(idx, [1,2,3,4,0])\n",
    "\n",
    "gmax = tf.gather_nd(gmag, idx)[:,:,:,0] \n",
    "gx   = tf.gather_nd(gx, idx)[:,:,:,0] \n",
    "gy   = tf.gather_nd(gy, idx)[:,:,:,0]\n",
    "\n",
    "if oriented:\n",
    "    raise Exception(\"`oriented` gradient not supported yet\")\n",
    "else:\n",
    "    gdir = tf.atan(gy / gx)\n",
    "    neg_mask = tf.where(gdir < 0)\n",
    "    neg_corr = tf.sparse_to_dense(neg_mask, gdir.get_shape(), np.pi)\n",
    "    gdir = gdir + neg_corr\n",
    "    #gbin = tf.to_int32(tf.floor(gdir / np.pi * n_bins * 0.99999))\n",
    "    \n",
    "    gw = gmax*gdir\n",
    "\n",
    "\n",
    "init_op = tf.initialize_all_variables()\n",
    "\n",
    "with tf.Session() as sess:\n",
    "    sess.run(init_op)\n",
    "    g = gw.eval()\n",
    "    i = idx.eval()\n",
    "    plt.imshow(g[6,:,:], interpolation='nearest')"
   ]
  },
  {
   "cell_type": "code",
   "execution_count": 173,
   "metadata": {
    "collapsed": false
   },
   "outputs": [],
   "source": [
    "a = tf.constant(np.random.randint(-10, 10, (10,8,8)), dtype=tf.int32)\n",
    "mask = tf.where(a < 0)\n",
    "mask = tf.sparse_to_dense(mask, a.get_shape(), 1000)\n",
    "b = a + mask\n",
    "\n",
    "init_op = tf.initialize_all_variables()\n",
    "with tf.Session() as sess:\n",
    "    sess.run(init_op)\n",
    "    #print(b.eval())"
   ]
  },
  {
   "cell_type": "code",
   "execution_count": 213,
   "metadata": {
    "collapsed": false
   },
   "outputs": [
    {
     "data": {
      "text/plain": [
       "<matplotlib.image.AxesImage at 0x7f6f140a48d0>"
      ]
     },
     "execution_count": 213,
     "metadata": {},
     "output_type": "execute_result"
    },
    {
     "data": {
      "image/png": "[encoded data removed]",
      "text/plain": [
       "<matplotlib.figure.Figure at 0x7f6f14304588>"
      ]
     },
     "metadata": {},
     "output_type": "display_data"
    }
   ],
   "source": [
    "# numpy code\n",
    "\n",
    "grayscale = False\n",
    "oriented = False\n",
    "n_bins = 9\n",
    "\n",
    "k = 6\n",
    "X = data[:10]\n",
    "kernel = np.array([[1,0,-1]])\n",
    "\n",
    "if grayscale:\n",
    "    img = X[k].mean(axis=2)    \n",
    "    gx = convolve2d(img, kernel,   mode = 'same')\n",
    "    gy = convolve2d(img, kernel.T, mode = 'same')   \n",
    "    g_mag = np.sqrt(gx**2 + gy**2)\n",
    "    \n",
    "else:\n",
    "    img = X[k]\n",
    "    gx = np.stack([convolve2d(img[:,:,0], kernel,   mode = 'same'),\n",
    "                   convolve2d(img[:,:,1], kernel,   mode = 'same'),\n",
    "                   convolve2d(img[:,:,2], kernel,   mode = 'same')], axis=-1)\n",
    "    \n",
    "    gy = np.stack([convolve2d(img[:,:,0], kernel.T, mode = 'same'),\n",
    "                   convolve2d(img[:,:,1], kernel.T, mode = 'same'),\n",
    "                   convolve2d(img[:,:,2], kernel.T, mode = 'same')], axis=-1)\n",
    "    \n",
    "    g_mag = np.sqrt(gx**2 + gy**2)\n",
    "    ch_idx = np.argmax(g_mag, axis = 2)\n",
    "    row_idx, col_idx = np.indices((g_mag.shape[0], g_mag.shape[1]))\n",
    "    \n",
    "    gx = gx[row_idx, col_idx, ch_idx]\n",
    "    gy = gy[row_idx, col_idx, ch_idx]\n",
    "    g_mag = g_mag[row_idx, col_idx, ch_idx]\n",
    "\n",
    "g_dir = np.arctan2(gy, gx)\n",
    "if oriented:\n",
    "    g_dir += np.pi\n",
    "    g_bin = np.floor(g_dir / np.pi * n_bins * 0.4999999)\n",
    "else:\n",
    "    g_dir[g_dir < 0] += np.pi\n",
    "    g_bin = np.floor(g_dir / np.pi * n_bins * 0.99999)\n",
    "    \n",
    "g_bin = g_bin.reshape(g_bin.shape[0], g_bin.shape[1], -1)\n",
    "\n",
    "plt.imshow(g_bin[:,:,0], interpolation='nearest')"
   ]
  },
  {
   "cell_type": "code",
   "execution_count": null,
   "metadata": {
    "collapsed": false
   },
   "outputs": [],
   "source": [
    "#a = X[0].copy() #np.arange(64).reshape((8,8))\n",
    "Z = hog_tensor_fold(X.copy(), 16, 8, 16)\n",
    "#Z = Z.reshape(10,9,16,16,3)\n",
    "\n",
    "k = 0\n",
    "\n",
    "W = np.vstack([\n",
    "        np.hstack([\n",
    "            np.vstack([\n",
    "                np.hstack([Z[k,0,0],Z[k,0,1]]), \n",
    "                np.hstack([Z[k,0,2],Z[k,0,3]])\n",
    "            ]),\n",
    "            np.vstack([\n",
    "                np.hstack([Z[k,1,0],Z[k,1,1]]), \n",
    "                np.hstack([Z[k,1,2],Z[k,1,3]])\n",
    "            ])\n",
    "        ]),\n",
    "        np.hstack([\n",
    "            np.vstack([\n",
    "                np.hstack([Z[k,2,0],Z[k,2,1]]),\n",
    "                np.hstack([Z[k,2,2],Z[k,2,3]])\n",
    "            ]),\n",
    "            np.vstack([\n",
    "                np.hstack([Z[k,3,0],Z[k,3,1]]), \n",
    "                np.hstack([Z[k,3,2],Z[k,3,3]])\n",
    "            ])\n",
    "        ])\n",
    "    ])\n",
    "\n",
    "plt.imshow(W, interpolation='nearest')\n",
    "#Z.shape"
   ]
  },
  {
   "cell_type": "code",
   "execution_count": null,
   "metadata": {
    "collapsed": false
   },
   "outputs": [],
   "source": [
    "Z.shape"
   ]
  },
  {
   "cell_type": "code",
   "execution_count": null,
   "metadata": {
    "collapsed": false
   },
   "outputs": [],
   "source": [
    "X[0,:,:,0]"
   ]
  }
 ],
 "metadata": {
  "kernelspec": {
   "display_name": "Python 3",
   "language": "python",
   "name": "python3"
  },
  "language_info": {
   "codemirror_mode": {
    "name": "ipython",
    "version": 3
   },
   "file_extension": ".py",
   "mimetype": "text/x-python",
   "name": "python",
   "nbconvert_exporter": "python",
   "pygments_lexer": "ipython3",
   "version": "3.5.2"
  }
 },
 "nbformat": 4,
 "nbformat_minor": 0
}
