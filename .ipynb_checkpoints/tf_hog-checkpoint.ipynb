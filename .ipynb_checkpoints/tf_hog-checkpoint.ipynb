{
 "cells": [
  {
   "cell_type": "code",
   "execution_count": 4,
   "metadata": {
    "collapsed": true
   },
   "outputs": [],
   "source": [
    "import os\n",
    "import numpy as np\n",
    "import tensorflow as tf\n",
    "import matplotlib.pyplot as plt\n",
    "from numpy.lib.stride_tricks import as_strided\n",
    "from scipy.signal import convolve2d\n",
    "\n",
    "from tf_hog import tf_hog_descriptor\n",
    "\n",
    "from PIL import Image\n",
    "%matplotlib inline\n",
    "\n",
    "plt.rcParams['image.cmap'] = 'viridis'"
   ]
  },
  {
   "cell_type": "code",
   "execution_count": 5,
   "metadata": {
    "collapsed": true
   },
   "outputs": [],
   "source": [
    "def read_images(folder):\n",
    "    fnames = [f for f in os.listdir(folder) if os.path.isfile(os.path.join(folder, f))]\n",
    "    images = [np.array(Image.open(os.path.join(folder, f))) for f in fnames]\n",
    "    return np.array(images)\n",
    "\n",
    "data = read_images('cifar/')"
   ]
  },
  {
   "cell_type": "code",
   "execution_count": 32,
   "metadata": {
    "collapsed": true
   },
   "outputs": [],
   "source": [
    "import numpy as np\n",
    "import tensorflow as tf\n",
    "from tf_filters import tf_deriv\n",
    "\n",
    "\n",
    "def tf_select_by_idx(a, idx):\n",
    "    return tf.select(tf.equal(idx, 2), \n",
    "                     a[:,:,:,2], \n",
    "                     tf.select(tf.equal(idx, 1), \n",
    "                               a[:,:,:,1], \n",
    "                               a[:,:,:,0]))\n",
    "\n",
    "\n",
    "def tf_hog_descriptor(images, cell_size = 8, block_size = 2, block_stride = 1, n_bins = 9,\n",
    "                      grayscale = False, oriented = False):\n",
    "\n",
    "    batch_size, height, width, depth = images.shape\n",
    "    half_pi = tf.constant(np.pi/2, name=\"pi_half\")\n",
    "    eps = tf.constant(1e-6, name=\"eps\")\n",
    "    scale_factor = tf.constant(np.pi * n_bins * 0.99999, name=\"scale_factor\")\n",
    "\n",
    "    #img_idx, row_idx, col_idx, _ = np.indices(images.shape)\n",
    "    #img_idx = tf.constant(img_idx, name=\"ImgIndex\", dtype=tf.int32)\n",
    "    #row_idx = tf.constant(row_idx, name=\"RowIndex\", dtype=tf.int32)\n",
    "    #col_idx = tf.constant(col_idx, name=\"ColIndex\", dtype=tf.int32)\n",
    "    \n",
    "    img = tf.constant(images, name=\"ImgBatch\", dtype=tf.float32)\n",
    "\n",
    "    # gradients\n",
    "    if grayscale:\n",
    "        gray = tf.image.rgb_to_grayscale(img, name=\"ImgGray\")\n",
    "        grad = tf_deriv(gray)\n",
    "    else:\n",
    "        grad = tf_deriv(img)\n",
    "    g_x = grad[:,:,:,0::2]\n",
    "    g_y = grad[:,:,:,1::2]\n",
    "    \n",
    "    # maximum norm gradient selection\n",
    "    g_norm = tf.sqrt(tf.square(g_x) + tf.square(g_y), \"GradNorm\")\n",
    "    idx = tf.argmax(g_norm, 3)\n",
    "\n",
    "    g_norm = tf.expand_dims(tf_select_by_idx(g_norm, idx), -1)\n",
    "    g_x    = tf.expand_dims(tf_select_by_idx(g_x,    idx), -1)\n",
    "    g_y    = tf.expand_dims(tf_select_by_idx(g_y,    idx), -1)\n",
    "\n",
    "    # orientation and binning\n",
    "    if oriented:\n",
    "        # atan2 implementation needed \n",
    "        # lots of conditional indexing required\n",
    "        raise NotImplementedError(\"`oriented` gradient not supported yet\")\n",
    "    else:\n",
    "        g_dir = tf.atan(g_y / (g_x + eps)) + half_pi\n",
    "        g_bin = g_dir / scale_factor\n",
    "        g_bin = tf.floor(g_bin)\n",
    "        g_bin = tf.to_int32(g_bin, name=\"Bins\")  \n",
    "\n",
    "    # cells partitioning\n",
    "    cell_norm = tf.space_to_depth(g_norm, cell_size, name=\"GradCells\")\n",
    "    cell_bins = tf.space_to_depth(g_bin, cell_size, name=\"BinsCells\")\n",
    "\n",
    "    # cells histograms\n",
    "    hist = list()\n",
    "    for i in range(n_bins):\n",
    "        mask = tf.equal(cell_bins, tf.constant(i, name=\"%i\"%i))\n",
    "        mask = tf.to_float(mask)\n",
    "        bin_values = mask * cell_norm\n",
    "        bin_values = tf.reduce_sum(bin_values, 3)\n",
    "        hist.append(bin_values)\n",
    "    hist = tf.pack(hist)\n",
    "    hist = tf.transpose(hist, [1,2,3,0], name=\"Hist\")\n",
    "\n",
    "    # blocks partitioning\n",
    "    block_hist = tf.extract_image_patches(hist, \n",
    "                                          ksizes  = [1, block_size, block_size, 1], \n",
    "                                          strides = [1, block_stride, block_stride, 1], \n",
    "                                          rates   = [1,1,1,1], \n",
    "                                          padding = 'VALID',\n",
    "                                          name    = \"BlockHist\")\n",
    "\n",
    "    # block normalization\n",
    "    block_hist = tf.nn.l2_normalize(block_hist, 3, epsilon=1.0)\n",
    "    \n",
    "    # HOG descriptor\n",
    "    hog_descriptor = tf.reshape(block_hist, \n",
    "                                [int(block_hist.get_shape()[0]), \n",
    "                                     int(block_hist.get_shape()[1]) * \\\n",
    "                                     int(block_hist.get_shape()[2]) * \\\n",
    "                                     int(block_hist.get_shape()[3])], \n",
    "                                 name='HOGDescriptor')\n",
    "\n",
    "    return hog_descriptor"
   ]
  },
  {
   "cell_type": "code",
   "execution_count": 34,
   "metadata": {
    "collapsed": false,
    "scrolled": false
   },
   "outputs": [
    {
     "name": "stdout",
     "output_type": "stream",
     "text": [
      "(1000, 3780)\n",
      "Total time: 12.969 sec\n",
      "Session management time: 1.707 sec\n",
      "Evaluation time: 11.262\n"
     ]
    }
   ],
   "source": [
    "import time\n",
    "\n",
    "tf.reset_default_graph()\n",
    "init_op = tf.initialize_all_variables()\n",
    "X = np.repeat(np.repeat(data[:1000], 4, axis=1), 2, axis=2)\n",
    "\n",
    "t1 = time.time()\n",
    "hog = tf_hog_descriptor(X)\n",
    "with tf.Session() as sess:\n",
    "    summary_writer = tf.train.SummaryWriter('tf_logs/', sess.graph)\n",
    "    sess.run(init_op)\n",
    "    t2 = time.time()\n",
    "    g = hog.eval()\n",
    "    print(g.shape)\n",
    "t3 = time.time()\n",
    "\n",
    "print('Total time: %.3f sec' % (t3 - t1))\n",
    "print('Session management time: %.3f sec' % (t2 - t1))\n",
    "print('Evaluation time: %.3f' % (t3 - t2))"
   ]
  },
  {
   "cell_type": "code",
   "execution_count": 46,
   "metadata": {
    "collapsed": false,
    "scrolled": false
   },
   "outputs": [
    {
     "data": {
      "image/png": "[encoded data removed]",
      "text/plain": [
       "<matplotlib.figure.Figure at 0x7f4ece6811d0>"
      ]
     },
     "metadata": {},
     "output_type": "display_data"
    }
   ],
   "source": [
    "cell_size = 16\n",
    "block_size = 16\n",
    "n_bins = 9\n",
    "\n",
    "a = tf.constant(data[1:2], dtype=tf.float32) \n",
    "idx = tf.argmax(a, 3)\n",
    "\n",
    "def tf_select_by_idx(a, idx):\n",
    "    return tf.select(tf.equal(idx, 2), \n",
    "                     a[:,:,:,2], \n",
    "                     tf.select(tf.equal(idx, 1), \n",
    "                               a[:,:,:,1], \n",
    "                               a[:,:,:,0]))\n",
    "\n",
    "\n",
    "b = tf.nn.l2_normalize(a, 3, epsilon=1.0)\n",
    "\n",
    "\n",
    "init_op = tf.initialize_all_variables()\n",
    "with tf.Session() as sess:\n",
    "    sess.run(init_op)\n",
    "    z = b.eval()  \n",
    "    \n",
    "    plt.figure(figsize=(16,4))\n",
    "    plt.imshow(z[0], interpolation='nearest')\n",
    "    #print(z)\n",
    "    #print(z)"
   ]
  },
  {
   "cell_type": "code",
   "execution_count": 3,
   "metadata": {
    "collapsed": true
   },
   "outputs": [],
   "source": [
    "def hog_tensor_fold(img, block_size = 16, cell_size = 8, stride = 8):    \n",
    "    size_t   = a.dtype.itemsize    \n",
    "    n_block  = block_size\n",
    "    n_cell   = cell_size\n",
    "    n_stride = stride\n",
    "    n_batch, n_height, n_width, n_channel = img.shape\n",
    "    \n",
    "    if (n_width - n_block) % n_stride != 0:\n",
    "        raise ValueError(\"`img.shape[2] - block_size` must be a multiple of `stride`\")\n",
    "    if (n_height - n_block) % n_stride != 0:\n",
    "        raise ValueError(\"`img.shape[1] - block_size` must be a multiple of `stride`\")\n",
    "    if n_block % n_cell != 0:\n",
    "        raise ValueError(\"`block_size` must be a multiple of `cell_size`\")\n",
    "    \n",
    "    strides = ( n_channel * n_height * n_width * size_t, # batch dimension\n",
    "                n_channel * n_stride * n_width * size_t, # block Y dimension   within an image\n",
    "                n_channel * n_stride * size_t,           # block X dimension   within an image\n",
    "                n_channel * n_cell * n_width * size_t,   # cell Y dimension    within a block\n",
    "                n_channel * n_cell * size_t,             # cell X dimension    within a block\n",
    "                n_channel * n_width  * size_t,           # spatial Y dimension within a cell\n",
    "                n_channel * size_t,                      # spatial X dimension within a cell\n",
    "                size_t )                                 # channel dimension\n",
    "    \n",
    "    shape   = ( n_batch, \n",
    "               (n_height - n_block) // n_stride + 1, \n",
    "                n_width // n_stride, \n",
    "                n_block // n_cell, \n",
    "                n_block // n_cell, \n",
    "                n_cell,\n",
    "                n_cell,\n",
    "                n_channel )\n",
    "    \n",
    "    result = as_strided(img, strides=strides, shape=shape)\n",
    "    result = result[:, :, :(n_width - n_block)//n_stride + 1, :, :, :]\n",
    "    result = result.reshape((result.shape[0],\n",
    "                             result.shape[1]*result.shape[2],\n",
    "                             result.shape[3]*result.shape[4],\n",
    "                             result.shape[5],\n",
    "                             result.shape[6],\n",
    "                             result.shape[7]))\n",
    "    \n",
    "    return result"
   ]
  },
  {
   "cell_type": "code",
   "execution_count": 213,
   "metadata": {
    "collapsed": false
   },
   "outputs": [
    {
     "data": {
      "text/plain": [
       "<matplotlib.image.AxesImage at 0x7f6f140a48d0>"
      ]
     },
     "execution_count": 213,
     "metadata": {},
     "output_type": "execute_result"
    },
    {
     "data": {
      "image/png": "[encoded data removed]",
      "text/plain": [
       "<matplotlib.figure.Figure at 0x7f6f14304588>"
      ]
     },
     "metadata": {},
     "output_type": "display_data"
    }
   ],
   "source": [
    "# numpy code\n",
    "\n",
    "grayscale = False\n",
    "oriented = False\n",
    "n_bins = 9\n",
    "\n",
    "k = 6\n",
    "X = data[:10]\n",
    "kernel = np.array([[1,0,-1]])\n",
    "\n",
    "if grayscale:\n",
    "    img = X[k].mean(axis=2)    \n",
    "    gx = convolve2d(img, kernel,   mode = 'same')\n",
    "    gy = convolve2d(img, kernel.T, mode = 'same')   \n",
    "    g_mag = np.sqrt(gx**2 + gy**2)\n",
    "    \n",
    "else:\n",
    "    img = X[k]\n",
    "    gx = np.stack([convolve2d(img[:,:,0], kernel,   mode = 'same'),\n",
    "                   convolve2d(img[:,:,1], kernel,   mode = 'same'),\n",
    "                   convolve2d(img[:,:,2], kernel,   mode = 'same')], axis=-1)\n",
    "    \n",
    "    gy = np.stack([convolve2d(img[:,:,0], kernel.T, mode = 'same'),\n",
    "                   convolve2d(img[:,:,1], kernel.T, mode = 'same'),\n",
    "                   convolve2d(img[:,:,2], kernel.T, mode = 'same')], axis=-1)\n",
    "    \n",
    "    g_mag = np.sqrt(gx**2 + gy**2)\n",
    "    ch_idx = np.argmax(g_mag, axis = 2)\n",
    "    row_idx, col_idx = np.indices((g_mag.shape[0], g_mag.shape[1]))\n",
    "    \n",
    "    gx = gx[row_idx, col_idx, ch_idx]\n",
    "    gy = gy[row_idx, col_idx, ch_idx]\n",
    "    g_mag = g_mag[row_idx, col_idx, ch_idx]\n",
    "\n",
    "g_dir = np.arctan2(gy, gx)\n",
    "if oriented:\n",
    "    g_dir += np.pi\n",
    "    g_bin = np.floor(g_dir / np.pi * n_bins * 0.4999999)\n",
    "else:\n",
    "    g_dir[g_dir < 0] += np.pi\n",
    "    g_bin = np.floor(g_dir / np.pi * n_bins * 0.99999)\n",
    "    \n",
    "g_bin = g_bin.reshape(g_bin.shape[0], g_bin.shape[1], -1)\n",
    "\n",
    "plt.imshow(g_bin[:,:,0], interpolation='nearest')"
   ]
  },
  {
   "cell_type": "code",
   "execution_count": null,
   "metadata": {
    "collapsed": false
   },
   "outputs": [],
   "source": [
    "Z.shape"
   ]
  },
  {
   "cell_type": "code",
   "execution_count": null,
   "metadata": {
    "collapsed": false
   },
   "outputs": [],
   "source": [
    "X[0,:,:,0]"
   ]
  }
 ],
 "metadata": {
  "anaconda-cloud": {},
  "kernelspec": {
   "display_name": "Python [Root]",
   "language": "python",
   "name": "Python [Root]"
  },
  "language_info": {
   "codemirror_mode": {
    "name": "ipython",
    "version": 3
   },
   "file_extension": ".py",
   "mimetype": "text/x-python",
   "name": "python",
   "nbconvert_exporter": "python",
   "pygments_lexer": "ipython3",
   "version": "3.5.2"
  }
 },
 "nbformat": 4,
 "nbformat_minor": 0
}
